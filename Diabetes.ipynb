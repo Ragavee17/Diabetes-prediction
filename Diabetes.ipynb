{
 "cells": [
  {
   "cell_type": "code",
   "execution_count": 1,
   "id": "506aa893",
   "metadata": {},
   "outputs": [],
   "source": [
    "import numpy as np\n",
    "import pandas as pd\n",
    "import matplotlib.pyplot as plt\n",
    "import seaborn as sns"
   ]
  },
  {
   "cell_type": "code",
   "execution_count": 2,
   "id": "a3da2626",
   "metadata": {},
   "outputs": [],
   "source": [
    "data=pd.read_csv(r\"Downloads\\diabetes.csv\")"
   ]
  },
  {
   "cell_type": "code",
   "execution_count": 3,
   "id": "c6c69306",
   "metadata": {},
   "outputs": [
    {
     "data": {
      "text/html": [
       "<div>\n",
       "<style scoped>\n",
       "    .dataframe tbody tr th:only-of-type {\n",
       "        vertical-align: middle;\n",
       "    }\n",
       "\n",
       "    .dataframe tbody tr th {\n",
       "        vertical-align: top;\n",
       "    }\n",
       "\n",
       "    .dataframe thead th {\n",
       "        text-align: right;\n",
       "    }\n",
       "</style>\n",
       "<table border=\"1\" class=\"dataframe\">\n",
       "  <thead>\n",
       "    <tr style=\"text-align: right;\">\n",
       "      <th></th>\n",
       "      <th>Pregnancies</th>\n",
       "      <th>Glucose</th>\n",
       "      <th>BloodPressure</th>\n",
       "      <th>SkinThickness</th>\n",
       "      <th>Insulin</th>\n",
       "      <th>BMI</th>\n",
       "      <th>DiabetesPedigreeFunction</th>\n",
       "      <th>Age</th>\n",
       "      <th>Outcome</th>\n",
       "    </tr>\n",
       "  </thead>\n",
       "  <tbody>\n",
       "    <tr>\n",
       "      <th>0</th>\n",
       "      <td>6</td>\n",
       "      <td>148</td>\n",
       "      <td>72</td>\n",
       "      <td>35</td>\n",
       "      <td>0</td>\n",
       "      <td>33.6</td>\n",
       "      <td>0.627</td>\n",
       "      <td>50</td>\n",
       "      <td>1</td>\n",
       "    </tr>\n",
       "    <tr>\n",
       "      <th>1</th>\n",
       "      <td>1</td>\n",
       "      <td>85</td>\n",
       "      <td>66</td>\n",
       "      <td>29</td>\n",
       "      <td>0</td>\n",
       "      <td>26.6</td>\n",
       "      <td>0.351</td>\n",
       "      <td>31</td>\n",
       "      <td>0</td>\n",
       "    </tr>\n",
       "    <tr>\n",
       "      <th>2</th>\n",
       "      <td>8</td>\n",
       "      <td>183</td>\n",
       "      <td>64</td>\n",
       "      <td>0</td>\n",
       "      <td>0</td>\n",
       "      <td>23.3</td>\n",
       "      <td>0.672</td>\n",
       "      <td>32</td>\n",
       "      <td>1</td>\n",
       "    </tr>\n",
       "    <tr>\n",
       "      <th>3</th>\n",
       "      <td>1</td>\n",
       "      <td>89</td>\n",
       "      <td>66</td>\n",
       "      <td>23</td>\n",
       "      <td>94</td>\n",
       "      <td>28.1</td>\n",
       "      <td>0.167</td>\n",
       "      <td>21</td>\n",
       "      <td>0</td>\n",
       "    </tr>\n",
       "    <tr>\n",
       "      <th>4</th>\n",
       "      <td>0</td>\n",
       "      <td>137</td>\n",
       "      <td>40</td>\n",
       "      <td>35</td>\n",
       "      <td>168</td>\n",
       "      <td>43.1</td>\n",
       "      <td>2.288</td>\n",
       "      <td>33</td>\n",
       "      <td>1</td>\n",
       "    </tr>\n",
       "  </tbody>\n",
       "</table>\n",
       "</div>"
      ],
      "text/plain": [
       "   Pregnancies  Glucose  BloodPressure  SkinThickness  Insulin   BMI  \\\n",
       "0            6      148             72             35        0  33.6   \n",
       "1            1       85             66             29        0  26.6   \n",
       "2            8      183             64              0        0  23.3   \n",
       "3            1       89             66             23       94  28.1   \n",
       "4            0      137             40             35      168  43.1   \n",
       "\n",
       "   DiabetesPedigreeFunction  Age  Outcome  \n",
       "0                     0.627   50        1  \n",
       "1                     0.351   31        0  \n",
       "2                     0.672   32        1  \n",
       "3                     0.167   21        0  \n",
       "4                     2.288   33        1  "
      ]
     },
     "execution_count": 3,
     "metadata": {},
     "output_type": "execute_result"
    }
   ],
   "source": [
    "data.head()"
   ]
  },
  {
   "cell_type": "code",
   "execution_count": 4,
   "id": "58809832",
   "metadata": {},
   "outputs": [
    {
     "data": {
      "text/plain": [
       "(768, 9)"
      ]
     },
     "execution_count": 4,
     "metadata": {},
     "output_type": "execute_result"
    }
   ],
   "source": [
    "data.shape"
   ]
  },
  {
   "cell_type": "code",
   "execution_count": 5,
   "id": "add1094b",
   "metadata": {},
   "outputs": [
    {
     "name": "stdout",
     "output_type": "stream",
     "text": [
      "<class 'pandas.core.frame.DataFrame'>\n",
      "RangeIndex: 768 entries, 0 to 767\n",
      "Data columns (total 9 columns):\n",
      " #   Column                    Non-Null Count  Dtype  \n",
      "---  ------                    --------------  -----  \n",
      " 0   Pregnancies               768 non-null    int64  \n",
      " 1   Glucose                   768 non-null    int64  \n",
      " 2   BloodPressure             768 non-null    int64  \n",
      " 3   SkinThickness             768 non-null    int64  \n",
      " 4   Insulin                   768 non-null    int64  \n",
      " 5   BMI                       768 non-null    float64\n",
      " 6   DiabetesPedigreeFunction  768 non-null    float64\n",
      " 7   Age                       768 non-null    int64  \n",
      " 8   Outcome                   768 non-null    int64  \n",
      "dtypes: float64(2), int64(7)\n",
      "memory usage: 54.1 KB\n"
     ]
    }
   ],
   "source": [
    "data.info()"
   ]
  },
  {
   "cell_type": "code",
   "execution_count": 6,
   "id": "4026f55a",
   "metadata": {},
   "outputs": [
    {
     "data": {
      "text/plain": [
       "Pregnancies                 0\n",
       "Glucose                     0\n",
       "BloodPressure               0\n",
       "SkinThickness               0\n",
       "Insulin                     0\n",
       "BMI                         0\n",
       "DiabetesPedigreeFunction    0\n",
       "Age                         0\n",
       "Outcome                     0\n",
       "dtype: int64"
      ]
     },
     "execution_count": 6,
     "metadata": {},
     "output_type": "execute_result"
    }
   ],
   "source": [
    "data.isna().sum()"
   ]
  },
  {
   "cell_type": "code",
   "execution_count": 7,
   "id": "27cc6fe1",
   "metadata": {},
   "outputs": [
    {
     "data": {
      "text/html": [
       "<div>\n",
       "<style scoped>\n",
       "    .dataframe tbody tr th:only-of-type {\n",
       "        vertical-align: middle;\n",
       "    }\n",
       "\n",
       "    .dataframe tbody tr th {\n",
       "        vertical-align: top;\n",
       "    }\n",
       "\n",
       "    .dataframe thead th {\n",
       "        text-align: right;\n",
       "    }\n",
       "</style>\n",
       "<table border=\"1\" class=\"dataframe\">\n",
       "  <thead>\n",
       "    <tr style=\"text-align: right;\">\n",
       "      <th></th>\n",
       "      <th>Pregnancies</th>\n",
       "      <th>Glucose</th>\n",
       "      <th>BloodPressure</th>\n",
       "      <th>SkinThickness</th>\n",
       "      <th>Insulin</th>\n",
       "      <th>BMI</th>\n",
       "      <th>DiabetesPedigreeFunction</th>\n",
       "      <th>Age</th>\n",
       "      <th>Outcome</th>\n",
       "    </tr>\n",
       "  </thead>\n",
       "  <tbody>\n",
       "    <tr>\n",
       "      <th>Pregnancies</th>\n",
       "      <td>1.000000</td>\n",
       "      <td>0.129459</td>\n",
       "      <td>0.141282</td>\n",
       "      <td>-0.081672</td>\n",
       "      <td>-0.073535</td>\n",
       "      <td>0.017683</td>\n",
       "      <td>-0.033523</td>\n",
       "      <td>0.544341</td>\n",
       "      <td>0.221898</td>\n",
       "    </tr>\n",
       "    <tr>\n",
       "      <th>Glucose</th>\n",
       "      <td>0.129459</td>\n",
       "      <td>1.000000</td>\n",
       "      <td>0.152590</td>\n",
       "      <td>0.057328</td>\n",
       "      <td>0.331357</td>\n",
       "      <td>0.221071</td>\n",
       "      <td>0.137337</td>\n",
       "      <td>0.263514</td>\n",
       "      <td>0.466581</td>\n",
       "    </tr>\n",
       "    <tr>\n",
       "      <th>BloodPressure</th>\n",
       "      <td>0.141282</td>\n",
       "      <td>0.152590</td>\n",
       "      <td>1.000000</td>\n",
       "      <td>0.207371</td>\n",
       "      <td>0.088933</td>\n",
       "      <td>0.281805</td>\n",
       "      <td>0.041265</td>\n",
       "      <td>0.239528</td>\n",
       "      <td>0.065068</td>\n",
       "    </tr>\n",
       "    <tr>\n",
       "      <th>SkinThickness</th>\n",
       "      <td>-0.081672</td>\n",
       "      <td>0.057328</td>\n",
       "      <td>0.207371</td>\n",
       "      <td>1.000000</td>\n",
       "      <td>0.436783</td>\n",
       "      <td>0.392573</td>\n",
       "      <td>0.183928</td>\n",
       "      <td>-0.113970</td>\n",
       "      <td>0.074752</td>\n",
       "    </tr>\n",
       "    <tr>\n",
       "      <th>Insulin</th>\n",
       "      <td>-0.073535</td>\n",
       "      <td>0.331357</td>\n",
       "      <td>0.088933</td>\n",
       "      <td>0.436783</td>\n",
       "      <td>1.000000</td>\n",
       "      <td>0.197859</td>\n",
       "      <td>0.185071</td>\n",
       "      <td>-0.042163</td>\n",
       "      <td>0.130548</td>\n",
       "    </tr>\n",
       "    <tr>\n",
       "      <th>BMI</th>\n",
       "      <td>0.017683</td>\n",
       "      <td>0.221071</td>\n",
       "      <td>0.281805</td>\n",
       "      <td>0.392573</td>\n",
       "      <td>0.197859</td>\n",
       "      <td>1.000000</td>\n",
       "      <td>0.140647</td>\n",
       "      <td>0.036242</td>\n",
       "      <td>0.292695</td>\n",
       "    </tr>\n",
       "    <tr>\n",
       "      <th>DiabetesPedigreeFunction</th>\n",
       "      <td>-0.033523</td>\n",
       "      <td>0.137337</td>\n",
       "      <td>0.041265</td>\n",
       "      <td>0.183928</td>\n",
       "      <td>0.185071</td>\n",
       "      <td>0.140647</td>\n",
       "      <td>1.000000</td>\n",
       "      <td>0.033561</td>\n",
       "      <td>0.173844</td>\n",
       "    </tr>\n",
       "    <tr>\n",
       "      <th>Age</th>\n",
       "      <td>0.544341</td>\n",
       "      <td>0.263514</td>\n",
       "      <td>0.239528</td>\n",
       "      <td>-0.113970</td>\n",
       "      <td>-0.042163</td>\n",
       "      <td>0.036242</td>\n",
       "      <td>0.033561</td>\n",
       "      <td>1.000000</td>\n",
       "      <td>0.238356</td>\n",
       "    </tr>\n",
       "    <tr>\n",
       "      <th>Outcome</th>\n",
       "      <td>0.221898</td>\n",
       "      <td>0.466581</td>\n",
       "      <td>0.065068</td>\n",
       "      <td>0.074752</td>\n",
       "      <td>0.130548</td>\n",
       "      <td>0.292695</td>\n",
       "      <td>0.173844</td>\n",
       "      <td>0.238356</td>\n",
       "      <td>1.000000</td>\n",
       "    </tr>\n",
       "  </tbody>\n",
       "</table>\n",
       "</div>"
      ],
      "text/plain": [
       "                          Pregnancies   Glucose  BloodPressure  SkinThickness  \\\n",
       "Pregnancies                  1.000000  0.129459       0.141282      -0.081672   \n",
       "Glucose                      0.129459  1.000000       0.152590       0.057328   \n",
       "BloodPressure                0.141282  0.152590       1.000000       0.207371   \n",
       "SkinThickness               -0.081672  0.057328       0.207371       1.000000   \n",
       "Insulin                     -0.073535  0.331357       0.088933       0.436783   \n",
       "BMI                          0.017683  0.221071       0.281805       0.392573   \n",
       "DiabetesPedigreeFunction    -0.033523  0.137337       0.041265       0.183928   \n",
       "Age                          0.544341  0.263514       0.239528      -0.113970   \n",
       "Outcome                      0.221898  0.466581       0.065068       0.074752   \n",
       "\n",
       "                           Insulin       BMI  DiabetesPedigreeFunction  \\\n",
       "Pregnancies              -0.073535  0.017683                 -0.033523   \n",
       "Glucose                   0.331357  0.221071                  0.137337   \n",
       "BloodPressure             0.088933  0.281805                  0.041265   \n",
       "SkinThickness             0.436783  0.392573                  0.183928   \n",
       "Insulin                   1.000000  0.197859                  0.185071   \n",
       "BMI                       0.197859  1.000000                  0.140647   \n",
       "DiabetesPedigreeFunction  0.185071  0.140647                  1.000000   \n",
       "Age                      -0.042163  0.036242                  0.033561   \n",
       "Outcome                   0.130548  0.292695                  0.173844   \n",
       "\n",
       "                               Age   Outcome  \n",
       "Pregnancies               0.544341  0.221898  \n",
       "Glucose                   0.263514  0.466581  \n",
       "BloodPressure             0.239528  0.065068  \n",
       "SkinThickness            -0.113970  0.074752  \n",
       "Insulin                  -0.042163  0.130548  \n",
       "BMI                       0.036242  0.292695  \n",
       "DiabetesPedigreeFunction  0.033561  0.173844  \n",
       "Age                       1.000000  0.238356  \n",
       "Outcome                   0.238356  1.000000  "
      ]
     },
     "execution_count": 7,
     "metadata": {},
     "output_type": "execute_result"
    }
   ],
   "source": [
    "data.corr()"
   ]
  },
  {
   "cell_type": "code",
   "execution_count": 8,
   "id": "18dac1e8",
   "metadata": {},
   "outputs": [
    {
     "data": {
      "text/plain": [
       "<AxesSubplot:>"
      ]
     },
     "execution_count": 8,
     "metadata": {},
     "output_type": "execute_result"
    },
    {
     "data": {
      "image/png": "[encoded data removed]",
      "text/plain": [
       "<Figure size 720x720 with 2 Axes>"
      ]
     },
     "metadata": {
      "needs_background": "light"
     },
     "output_type": "display_data"
    }
   ],
   "source": [
    "plt.figure(figsize=(10,10))\n",
    "sns.heatmap(data.corr(),annot=True,fmt='.0%')"
   ]
  },
  {
   "cell_type": "code",
   "execution_count": 9,
   "id": "4241ad93",
   "metadata": {},
   "outputs": [
    {
     "data": {
      "text/plain": [
       "array([[  6.   , 148.   ,  72.   , ...,  33.6  ,   0.627,  50.   ],\n",
       "       [  1.   ,  85.   ,  66.   , ...,  26.6  ,   0.351,  31.   ],\n",
       "       [  8.   , 183.   ,  64.   , ...,  23.3  ,   0.672,  32.   ],\n",
       "       ...,\n",
       "       [  5.   , 121.   ,  72.   , ...,  26.2  ,   0.245,  30.   ],\n",
       "       [  1.   , 126.   ,  60.   , ...,  30.1  ,   0.349,  47.   ],\n",
       "       [  1.   ,  93.   ,  70.   , ...,  30.4  ,   0.315,  23.   ]])"
      ]
     },
     "execution_count": 9,
     "metadata": {},
     "output_type": "execute_result"
    }
   ],
   "source": [
    "x=data.iloc[:,:8].values\n",
    "x"
   ]
  },
  {
   "cell_type": "code",
   "execution_count": 10,
   "id": "cfa7076f",
   "metadata": {},
   "outputs": [
    {
     "data": {
      "text/plain": [
       "0      1\n",
       "1      0\n",
       "2      1\n",
       "3      0\n",
       "4      1\n",
       "      ..\n",
       "763    0\n",
       "764    0\n",
       "765    0\n",
       "766    1\n",
       "767    0\n",
       "Name: Outcome, Length: 768, dtype: int64"
      ]
     },
     "execution_count": 10,
     "metadata": {},
     "output_type": "execute_result"
    }
   ],
   "source": [
    "y=data.iloc[:,8]\n",
    "y"
   ]
  },
  {
   "cell_type": "code",
   "execution_count": 11,
   "id": "b8d2d6ec",
   "metadata": {},
   "outputs": [],
   "source": [
    "from sklearn.model_selection import train_test_split\n",
    "x_train_f,x_test,y_train_f,y_test=train_test_split(x,y,test_size=0.10,random_state=0)"
   ]
  },
  {
   "cell_type": "code",
   "execution_count": 12,
   "id": "adabc44c",
   "metadata": {},
   "outputs": [],
   "source": [
    "x_train,x_valid,y_train,y_valid=train_test_split(x_train_f,y_train_f,test_size=0.10,random_state=0)"
   ]
  },
  {
   "cell_type": "code",
   "execution_count": 13,
   "id": "40882c3b",
   "metadata": {},
   "outputs": [
    {
     "data": {
      "text/plain": [
       "(621, 8)"
      ]
     },
     "execution_count": 13,
     "metadata": {},
     "output_type": "execute_result"
    }
   ],
   "source": [
    "x_train.shape"
   ]
  },
  {
   "cell_type": "code",
   "execution_count": null,
   "id": "50f8c077",
   "metadata": {},
   "outputs": [],
   "source": []
  },
  {
   "cell_type": "code",
   "execution_count": 14,
   "id": "1528b76e",
   "metadata": {},
   "outputs": [],
   "source": [
    "import tensorflow as tf\n",
    "from tensorflow import keras"
   ]
  },
  {
   "cell_type": "code",
   "execution_count": 15,
   "id": "ccb356ef",
   "metadata": {},
   "outputs": [],
   "source": [
    "np.random.seed(42)\n",
    "tf.random.set_seed(42)"
   ]
  },
  {
   "cell_type": "code",
   "execution_count": 16,
   "id": "52e82472",
   "metadata": {},
   "outputs": [],
   "source": [
    "#using neural network\n",
    "modell =keras.models.Sequential()\n",
    "modell.add(keras.layers.Dense(10, input_dim=x_train.shape[1], activation='relu', kernel_initializer='he_normal'))\n",
    "modell.add(keras.layers.Dense(10))\n",
    "modell.add(keras.layers.Dense(1, activation='sigmoid'))"
   ]
  },
  {
   "cell_type": "code",
   "execution_count": 17,
   "id": "08a48d76",
   "metadata": {},
   "outputs": [],
   "source": [
    "modell.compile(loss=\"binary_crossentropy\",\n",
    "             optimizer=keras.optimizers.Adam(lr=1e-5,clipnorm=0.001),\n",
    "             metrics=['accuracy'])"
   ]
  },
  {
   "cell_type": "code",
   "execution_count": 18,
   "id": "825fd581",
   "metadata": {},
   "outputs": [
    {
     "name": "stdout",
     "output_type": "stream",
     "text": [
      "Epoch 1/150\n",
      "69/69 [==============================] - 0s 3ms/step - loss: 129.7511 - accuracy: 0.6490 - val_loss: 127.1407 - val_accuracy: 0.6571\n",
      "Epoch 2/150\n",
      "69/69 [==============================] - 0s 1ms/step - loss: 128.4092 - accuracy: 0.6490 - val_loss: 125.8261 - val_accuracy: 0.6571\n",
      "Epoch 3/150\n",
      "69/69 [==============================] - 0s 1ms/step - loss: 127.0855 - accuracy: 0.6490 - val_loss: 124.5184 - val_accuracy: 0.6571\n",
      "Epoch 4/150\n",
      "69/69 [==============================] - 0s 1ms/step - loss: 125.8018 - accuracy: 0.6490 - val_loss: 123.2248 - val_accuracy: 0.6571\n",
      "Epoch 5/150\n",
      "69/69 [==============================] - 0s 1ms/step - loss: 124.4488 - accuracy: 0.6490 - val_loss: 121.9273 - val_accuracy: 0.6571\n",
      "Epoch 6/150\n",
      "69/69 [==============================] - 0s 1ms/step - loss: 123.1516 - accuracy: 0.6490 - val_loss: 120.6109 - val_accuracy: 0.6571\n",
      "Epoch 7/150\n",
      "69/69 [==============================] - 0s 1ms/step - loss: 121.8548 - accuracy: 0.6490 - val_loss: 119.3234 - val_accuracy: 0.6571\n",
      "Epoch 8/150\n",
      "69/69 [==============================] - 0s 1ms/step - loss: 120.5418 - accuracy: 0.6490 - val_loss: 118.0115 - val_accuracy: 0.6571\n",
      "Epoch 9/150\n",
      "69/69 [==============================] - 0s 1ms/step - loss: 119.2016 - accuracy: 0.6490 - val_loss: 116.7299 - val_accuracy: 0.6571\n",
      "Epoch 10/150\n",
      "69/69 [==============================] - 0s 1ms/step - loss: 117.8867 - accuracy: 0.6490 - val_loss: 115.4581 - val_accuracy: 0.6571\n",
      "Epoch 11/150\n",
      "69/69 [==============================] - 0s 1ms/step - loss: 116.6551 - accuracy: 0.6490 - val_loss: 114.1996 - val_accuracy: 0.6571\n",
      "Epoch 12/150\n",
      "69/69 [==============================] - 0s 1ms/step - loss: 115.3784 - accuracy: 0.6490 - val_loss: 112.9628 - val_accuracy: 0.6571\n",
      "Epoch 13/150\n",
      "69/69 [==============================] - 0s 1ms/step - loss: 114.0947 - accuracy: 0.6490 - val_loss: 111.6734 - val_accuracy: 0.6571\n",
      "Epoch 14/150\n",
      "69/69 [==============================] - 0s 1ms/step - loss: 112.8423 - accuracy: 0.6490 - val_loss: 110.3911 - val_accuracy: 0.6571\n",
      "Epoch 15/150\n",
      "69/69 [==============================] - 0s 1ms/step - loss: 111.5175 - accuracy: 0.6490 - val_loss: 109.0942 - val_accuracy: 0.6571\n",
      "Epoch 16/150\n",
      "69/69 [==============================] - 0s 1ms/step - loss: 110.2383 - accuracy: 0.6490 - val_loss: 107.8329 - val_accuracy: 0.6571\n",
      "Epoch 17/150\n",
      "69/69 [==============================] - 0s 1ms/step - loss: 108.9744 - accuracy: 0.6490 - val_loss: 106.5907 - val_accuracy: 0.6571\n",
      "Epoch 18/150\n",
      "69/69 [==============================] - 0s 1ms/step - loss: 107.7403 - accuracy: 0.6490 - val_loss: 105.3512 - val_accuracy: 0.6571\n",
      "Epoch 19/150\n",
      "69/69 [==============================] - 0s 1ms/step - loss: 106.4525 - accuracy: 0.6490 - val_loss: 104.0735 - val_accuracy: 0.6571\n",
      "Epoch 20/150\n",
      "69/69 [==============================] - 0s 1ms/step - loss: 105.1919 - accuracy: 0.6490 - val_loss: 102.8470 - val_accuracy: 0.6571\n",
      "Epoch 21/150\n",
      "69/69 [==============================] - 0s 1ms/step - loss: 103.9207 - accuracy: 0.6490 - val_loss: 101.5982 - val_accuracy: 0.6571\n",
      "Epoch 22/150\n",
      "69/69 [==============================] - 0s 1ms/step - loss: 102.6489 - accuracy: 0.6490 - val_loss: 100.3408 - val_accuracy: 0.6571\n",
      "Epoch 23/150\n",
      "69/69 [==============================] - 0s 2ms/step - loss: 101.3977 - accuracy: 0.6490 - val_loss: 99.1063 - val_accuracy: 0.6571\n",
      "Epoch 24/150\n",
      "69/69 [==============================] - 0s 2ms/step - loss: 100.1497 - accuracy: 0.6490 - val_loss: 97.8629 - val_accuracy: 0.6571\n",
      "Epoch 25/150\n",
      "69/69 [==============================] - 0s 2ms/step - loss: 98.9367 - accuracy: 0.6490 - val_loss: 96.6563 - val_accuracy: 0.6571\n",
      "Epoch 26/150\n",
      "69/69 [==============================] - 0s 1ms/step - loss: 97.6949 - accuracy: 0.6490 - val_loss: 95.4073 - val_accuracy: 0.6571\n",
      "Epoch 27/150\n",
      "69/69 [==============================] - 0s 1ms/step - loss: 96.4594 - accuracy: 0.6490 - val_loss: 94.1515 - val_accuracy: 0.6571\n",
      "Epoch 28/150\n",
      "69/69 [==============================] - 0s 1ms/step - loss: 95.1335 - accuracy: 0.6490 - val_loss: 92.9299 - val_accuracy: 0.6571\n",
      "Epoch 29/150\n",
      "69/69 [==============================] - 0s 2ms/step - loss: 93.9686 - accuracy: 0.6490 - val_loss: 91.7159 - val_accuracy: 0.6571\n",
      "Epoch 30/150\n",
      "69/69 [==============================] - 0s 2ms/step - loss: 92.6967 - accuracy: 0.6490 - val_loss: 90.4865 - val_accuracy: 0.6571\n",
      "Epoch 31/150\n",
      "69/69 [==============================] - 0s 2ms/step - loss: 91.4674 - accuracy: 0.6490 - val_loss: 89.2470 - val_accuracy: 0.6571\n",
      "Epoch 32/150\n",
      "69/69 [==============================] - 0s 3ms/step - loss: 90.1973 - accuracy: 0.6490 - val_loss: 88.0109 - val_accuracy: 0.6571\n",
      "Epoch 33/150\n",
      "69/69 [==============================] - 0s 1ms/step - loss: 88.9744 - accuracy: 0.6490 - val_loss: 86.7962 - val_accuracy: 0.6571\n",
      "Epoch 34/150\n",
      "69/69 [==============================] - 0s 1ms/step - loss: 87.7321 - accuracy: 0.6490 - val_loss: 85.5659 - val_accuracy: 0.6571\n",
      "Epoch 35/150\n",
      "69/69 [==============================] - 0s 1ms/step - loss: 86.4939 - accuracy: 0.6490 - val_loss: 84.3634 - val_accuracy: 0.6571\n",
      "Epoch 36/150\n",
      "69/69 [==============================] - 0s 1ms/step - loss: 85.2704 - accuracy: 0.6490 - val_loss: 83.1599 - val_accuracy: 0.6571\n",
      "Epoch 37/150\n",
      "69/69 [==============================] - 0s 2ms/step - loss: 84.0573 - accuracy: 0.6490 - val_loss: 81.9657 - val_accuracy: 0.6571\n",
      "Epoch 38/150\n",
      "69/69 [==============================] - 0s 2ms/step - loss: 82.8437 - accuracy: 0.6490 - val_loss: 80.7652 - val_accuracy: 0.6571\n",
      "Epoch 39/150\n",
      "69/69 [==============================] - 0s 2ms/step - loss: 81.6274 - accuracy: 0.6490 - val_loss: 79.5670 - val_accuracy: 0.6571\n",
      "Epoch 40/150\n",
      "69/69 [==============================] - 0s 2ms/step - loss: 80.4734 - accuracy: 0.6490 - val_loss: 78.4093 - val_accuracy: 0.6571\n",
      "Epoch 41/150\n",
      "69/69 [==============================] - 0s 1ms/step - loss: 79.2780 - accuracy: 0.6490 - val_loss: 77.2025 - val_accuracy: 0.6571\n",
      "Epoch 42/150\n",
      "69/69 [==============================] - 0s 1ms/step - loss: 78.0277 - accuracy: 0.6490 - val_loss: 76.0052 - val_accuracy: 0.6571\n",
      "Epoch 43/150\n",
      "69/69 [==============================] - 0s 1ms/step - loss: 76.8300 - accuracy: 0.6490 - val_loss: 74.7859 - val_accuracy: 0.6571\n",
      "Epoch 44/150\n",
      "69/69 [==============================] - 0s 1ms/step - loss: 75.5980 - accuracy: 0.6490 - val_loss: 73.5938 - val_accuracy: 0.6571\n",
      "Epoch 45/150\n",
      "69/69 [==============================] - 0s 1ms/step - loss: 74.3696 - accuracy: 0.6490 - val_loss: 72.3807 - val_accuracy: 0.6571\n",
      "Epoch 46/150\n",
      "69/69 [==============================] - 0s 1ms/step - loss: 73.1454 - accuracy: 0.6490 - val_loss: 71.1722 - val_accuracy: 0.6571\n",
      "Epoch 47/150\n",
      "69/69 [==============================] - 0s 1ms/step - loss: 71.9456 - accuracy: 0.6490 - val_loss: 69.9901 - val_accuracy: 0.6571\n",
      "Epoch 48/150\n",
      "69/69 [==============================] - 0s 1ms/step - loss: 70.7702 - accuracy: 0.6490 - val_loss: 68.8400 - val_accuracy: 0.6571\n",
      "Epoch 49/150\n",
      "69/69 [==============================] - 0s 1ms/step - loss: 69.5794 - accuracy: 0.6490 - val_loss: 67.6430 - val_accuracy: 0.6571\n",
      "Epoch 50/150\n",
      "69/69 [==============================] - 0s 1ms/step - loss: 68.3759 - accuracy: 0.6490 - val_loss: 66.4799 - val_accuracy: 0.6571\n",
      "Epoch 51/150\n",
      "69/69 [==============================] - 0s 1ms/step - loss: 67.2421 - accuracy: 0.6490 - val_loss: 65.2866 - val_accuracy: 0.6571\n",
      "Epoch 52/150\n",
      "69/69 [==============================] - 0s 1ms/step - loss: 65.9721 - accuracy: 0.6490 - val_loss: 64.1122 - val_accuracy: 0.6571\n",
      "Epoch 53/150\n",
      "69/69 [==============================] - 0s 1ms/step - loss: 64.8388 - accuracy: 0.6490 - val_loss: 62.9896 - val_accuracy: 0.6571\n",
      "Epoch 54/150\n",
      "69/69 [==============================] - 0s 1ms/step - loss: 63.7028 - accuracy: 0.6490 - val_loss: 61.8505 - val_accuracy: 0.6571\n",
      "Epoch 55/150\n",
      "69/69 [==============================] - 0s 2ms/step - loss: 62.5071 - accuracy: 0.6490 - val_loss: 60.6913 - val_accuracy: 0.6571\n",
      "Epoch 56/150\n",
      "69/69 [==============================] - 0s 2ms/step - loss: 61.3734 - accuracy: 0.6490 - val_loss: 59.5139 - val_accuracy: 0.6571\n",
      "Epoch 57/150\n",
      "69/69 [==============================] - 0s 2ms/step - loss: 60.1791 - accuracy: 0.6490 - val_loss: 58.3268 - val_accuracy: 0.6571\n",
      "Epoch 58/150\n",
      "69/69 [==============================] - 0s 2ms/step - loss: 58.9606 - accuracy: 0.6490 - val_loss: 57.1358 - val_accuracy: 0.6571\n",
      "Epoch 59/150\n",
      "69/69 [==============================] - 0s 1ms/step - loss: 57.7404 - accuracy: 0.6490 - val_loss: 55.9652 - val_accuracy: 0.6571\n",
      "Epoch 60/150\n",
      "69/69 [==============================] - 0s 1ms/step - loss: 56.5665 - accuracy: 0.6490 - val_loss: 54.7845 - val_accuracy: 0.6571\n",
      "Epoch 61/150\n",
      "69/69 [==============================] - 0s 1ms/step - loss: 55.3778 - accuracy: 0.6490 - val_loss: 53.6090 - val_accuracy: 0.6571\n",
      "Epoch 62/150\n",
      "69/69 [==============================] - 0s 1ms/step - loss: 54.2259 - accuracy: 0.6490 - val_loss: 52.4478 - val_accuracy: 0.6571\n",
      "Epoch 63/150\n",
      "69/69 [==============================] - 0s 1ms/step - loss: 53.0686 - accuracy: 0.6490 - val_loss: 51.2993 - val_accuracy: 0.6571\n",
      "Epoch 64/150\n",
      "69/69 [==============================] - 0s 1ms/step - loss: 51.8854 - accuracy: 0.6490 - val_loss: 50.1293 - val_accuracy: 0.6571\n",
      "Epoch 65/150\n",
      "69/69 [==============================] - 0s 1ms/step - loss: 50.6522 - accuracy: 0.6490 - val_loss: 48.9450 - val_accuracy: 0.6571\n",
      "Epoch 66/150\n",
      "69/69 [==============================] - 0s 1ms/step - loss: 49.5168 - accuracy: 0.6490 - val_loss: 47.8047 - val_accuracy: 0.6571\n",
      "Epoch 67/150\n",
      "69/69 [==============================] - 0s 1ms/step - loss: 48.3167 - accuracy: 0.6490 - val_loss: 46.6249 - val_accuracy: 0.6571\n",
      "Epoch 68/150\n",
      "69/69 [==============================] - 0s 1ms/step - loss: 47.1436 - accuracy: 0.6490 - val_loss: 45.4559 - val_accuracy: 0.6571\n",
      "Epoch 69/150\n",
      "69/69 [==============================] - 0s 1ms/step - loss: 45.9503 - accuracy: 0.6490 - val_loss: 44.3039 - val_accuracy: 0.6571\n",
      "Epoch 70/150\n",
      "69/69 [==============================] - 0s 1ms/step - loss: 44.8076 - accuracy: 0.6490 - val_loss: 43.1674 - val_accuracy: 0.6571\n",
      "Epoch 71/150\n",
      "69/69 [==============================] - 0s 1ms/step - loss: 43.6492 - accuracy: 0.6490 - val_loss: 41.9983 - val_accuracy: 0.6571\n",
      "Epoch 72/150\n",
      "69/69 [==============================] - 0s 1ms/step - loss: 42.5133 - accuracy: 0.6490 - val_loss: 40.8137 - val_accuracy: 0.6571\n",
      "Epoch 73/150\n",
      "69/69 [==============================] - 0s 1ms/step - loss: 41.2893 - accuracy: 0.6490 - val_loss: 39.6565 - val_accuracy: 0.6571\n",
      "Epoch 74/150\n",
      "69/69 [==============================] - 0s 1ms/step - loss: 40.1419 - accuracy: 0.6490 - val_loss: 38.5083 - val_accuracy: 0.6571\n",
      "Epoch 75/150\n",
      "69/69 [==============================] - 0s 1ms/step - loss: 39.0041 - accuracy: 0.6490 - val_loss: 37.3866 - val_accuracy: 0.6571\n",
      "Epoch 76/150\n",
      "69/69 [==============================] - 0s 1ms/step - loss: 37.8044 - accuracy: 0.6490 - val_loss: 36.2089 - val_accuracy: 0.6571\n",
      "Epoch 77/150\n",
      "69/69 [==============================] - 0s 1ms/step - loss: 36.6136 - accuracy: 0.6490 - val_loss: 35.0437 - val_accuracy: 0.6571\n",
      "Epoch 78/150\n",
      "69/69 [==============================] - 0s 2ms/step - loss: 35.4459 - accuracy: 0.6490 - val_loss: 33.8993 - val_accuracy: 0.6571\n",
      "Epoch 79/150\n",
      "69/69 [==============================] - 0s 2ms/step - loss: 34.3276 - accuracy: 0.6490 - val_loss: 32.7557 - val_accuracy: 0.6571\n",
      "Epoch 80/150\n",
      "69/69 [==============================] - 0s 1ms/step - loss: 33.1224 - accuracy: 0.6490 - val_loss: 31.5769 - val_accuracy: 0.6571\n",
      "Epoch 81/150\n",
      "69/69 [==============================] - 0s 2ms/step - loss: 31.9833 - accuracy: 0.6490 - val_loss: 30.4019 - val_accuracy: 0.6571\n",
      "Epoch 82/150\n",
      "69/69 [==============================] - 0s 1ms/step - loss: 30.8254 - accuracy: 0.6490 - val_loss: 29.2596 - val_accuracy: 0.6571\n",
      "Epoch 83/150\n",
      "69/69 [==============================] - 0s 1ms/step - loss: 29.6318 - accuracy: 0.6490 - val_loss: 28.0930 - val_accuracy: 0.6571\n",
      "Epoch 84/150\n",
      "69/69 [==============================] - 0s 1ms/step - loss: 28.4520 - accuracy: 0.6490 - val_loss: 26.9203 - val_accuracy: 0.6571\n",
      "Epoch 85/150\n",
      "69/69 [==============================] - 0s 1ms/step - loss: 27.2425 - accuracy: 0.6506 - val_loss: 25.7664 - val_accuracy: 0.6571\n",
      "Epoch 86/150\n",
      "69/69 [==============================] - 0s 1ms/step - loss: 26.1532 - accuracy: 0.6506 - val_loss: 24.6421 - val_accuracy: 0.6571\n",
      "Epoch 87/150\n",
      "69/69 [==============================] - 0s 1ms/step - loss: 25.0270 - accuracy: 0.6522 - val_loss: 23.4774 - val_accuracy: 0.6571\n",
      "Epoch 88/150\n",
      "69/69 [==============================] - 0s 1ms/step - loss: 23.8826 - accuracy: 0.6522 - val_loss: 22.4048 - val_accuracy: 0.6571\n",
      "Epoch 89/150\n",
      "69/69 [==============================] - 0s 1ms/step - loss: 22.7253 - accuracy: 0.6522 - val_loss: 21.4974 - val_accuracy: 0.6429\n",
      "Epoch 90/150\n",
      "69/69 [==============================] - 0s 1ms/step - loss: 21.6269 - accuracy: 0.6522 - val_loss: 20.6629 - val_accuracy: 0.6429\n",
      "Epoch 91/150\n",
      "69/69 [==============================] - 0s 1ms/step - loss: 20.4899 - accuracy: 0.6554 - val_loss: 19.8440 - val_accuracy: 0.6286\n",
      "Epoch 92/150\n",
      "69/69 [==============================] - 0s 2ms/step - loss: 19.4177 - accuracy: 0.6538 - val_loss: 19.0962 - val_accuracy: 0.6286\n",
      "Epoch 93/150\n",
      "69/69 [==============================] - 0s 1ms/step - loss: 18.4041 - accuracy: 0.6538 - val_loss: 18.4234 - val_accuracy: 0.6143\n",
      "Epoch 94/150\n",
      "69/69 [==============================] - 0s 1ms/step - loss: 17.4725 - accuracy: 0.6506 - val_loss: 17.7521 - val_accuracy: 0.6000\n",
      "Epoch 95/150\n",
      "69/69 [==============================] - 0s 1ms/step - loss: 16.5122 - accuracy: 0.6506 - val_loss: 17.1422 - val_accuracy: 0.5857\n",
      "Epoch 96/150\n",
      "69/69 [==============================] - 0s 1ms/step - loss: 15.6423 - accuracy: 0.6506 - val_loss: 16.6040 - val_accuracy: 0.5714\n",
      "Epoch 97/150\n",
      "69/69 [==============================] - 0s 979us/step - loss: 14.8216 - accuracy: 0.6522 - val_loss: 16.1198 - val_accuracy: 0.5857\n",
      "Epoch 98/150\n",
      "69/69 [==============================] - 0s 1ms/step - loss: 14.0417 - accuracy: 0.6522 - val_loss: 15.6777 - val_accuracy: 0.5714\n",
      "Epoch 99/150\n",
      "69/69 [==============================] - 0s 1ms/step - loss: 13.2926 - accuracy: 0.6457 - val_loss: 15.2240 - val_accuracy: 0.5714\n",
      "Epoch 100/150\n",
      "69/69 [==============================] - 0s 1ms/step - loss: 12.5137 - accuracy: 0.6473 - val_loss: 14.8102 - val_accuracy: 0.5571\n",
      "Epoch 101/150\n",
      "69/69 [==============================] - 0s 1ms/step - loss: 11.8565 - accuracy: 0.6425 - val_loss: 14.4481 - val_accuracy: 0.5571\n",
      "Epoch 102/150\n",
      "69/69 [==============================] - 0s 1ms/step - loss: 11.2898 - accuracy: 0.6522 - val_loss: 14.1016 - val_accuracy: 0.5571\n",
      "Epoch 103/150\n",
      "69/69 [==============================] - 0s 1ms/step - loss: 10.7650 - accuracy: 0.6409 - val_loss: 13.7862 - val_accuracy: 0.5571\n",
      "Epoch 104/150\n",
      "69/69 [==============================] - 0s 1ms/step - loss: 10.2926 - accuracy: 0.6409 - val_loss: 13.4805 - val_accuracy: 0.5714\n",
      "Epoch 105/150\n",
      "69/69 [==============================] - 0s 1ms/step - loss: 9.8745 - accuracy: 0.6361 - val_loss: 13.2285 - val_accuracy: 0.5571\n",
      "Epoch 106/150\n",
      "69/69 [==============================] - 0s 1ms/step - loss: 9.5249 - accuracy: 0.6345 - val_loss: 12.9788 - val_accuracy: 0.5714\n",
      "Epoch 107/150\n",
      "69/69 [==============================] - 0s 1ms/step - loss: 9.2026 - accuracy: 0.6312 - val_loss: 12.7429 - val_accuracy: 0.5714\n",
      "Epoch 108/150\n",
      "69/69 [==============================] - 0s 1ms/step - loss: 8.9227 - accuracy: 0.6280 - val_loss: 12.5196 - val_accuracy: 0.5714\n",
      "Epoch 109/150\n",
      "69/69 [==============================] - 0s 2ms/step - loss: 8.6941 - accuracy: 0.6200 - val_loss: 12.3057 - val_accuracy: 0.5857\n",
      "Epoch 110/150\n",
      "69/69 [==============================] - 0s 2ms/step - loss: 8.4784 - accuracy: 0.6135 - val_loss: 12.0902 - val_accuracy: 0.5714\n",
      "Epoch 111/150\n",
      "69/69 [==============================] - 0s 1ms/step - loss: 8.2644 - accuracy: 0.6167 - val_loss: 11.9008 - val_accuracy: 0.5571\n",
      "Epoch 112/150\n",
      "69/69 [==============================] - 0s 2ms/step - loss: 8.0887 - accuracy: 0.6151 - val_loss: 11.7129 - val_accuracy: 0.5714\n",
      "Epoch 113/150\n",
      "69/69 [==============================] - 0s 2ms/step - loss: 7.9152 - accuracy: 0.6039 - val_loss: 11.5581 - val_accuracy: 0.5714\n",
      "Epoch 114/150\n",
      "69/69 [==============================] - 0s 1ms/step - loss: 7.7514 - accuracy: 0.6023 - val_loss: 11.3700 - val_accuracy: 0.5714\n",
      "Epoch 115/150\n",
      "69/69 [==============================] - 0s 1ms/step - loss: 7.6037 - accuracy: 0.5974 - val_loss: 11.1961 - val_accuracy: 0.5714\n",
      "Epoch 116/150\n",
      "69/69 [==============================] - 0s 1ms/step - loss: 7.4722 - accuracy: 0.5974 - val_loss: 11.0148 - val_accuracy: 0.5714\n",
      "Epoch 117/150\n",
      "69/69 [==============================] - 0s 1ms/step - loss: 7.3456 - accuracy: 0.5942 - val_loss: 10.7928 - val_accuracy: 0.5571\n",
      "Epoch 118/150\n",
      "69/69 [==============================] - 0s 1ms/step - loss: 7.2143 - accuracy: 0.5845 - val_loss: 10.6548 - val_accuracy: 0.5429\n",
      "Epoch 119/150\n",
      "69/69 [==============================] - 0s 1ms/step - loss: 7.0837 - accuracy: 0.5813 - val_loss: 10.4519 - val_accuracy: 0.5286\n",
      "Epoch 120/150\n",
      "69/69 [==============================] - 0s 1ms/step - loss: 6.9590 - accuracy: 0.5797 - val_loss: 10.2443 - val_accuracy: 0.5286\n",
      "Epoch 121/150\n",
      "69/69 [==============================] - 0s 1ms/step - loss: 6.8438 - accuracy: 0.5813 - val_loss: 10.0168 - val_accuracy: 0.5429\n",
      "Epoch 122/150\n",
      "69/69 [==============================] - 0s 1ms/step - loss: 6.7217 - accuracy: 0.5813 - val_loss: 9.8627 - val_accuracy: 0.5143\n",
      "Epoch 123/150\n",
      "69/69 [==============================] - 0s 1ms/step - loss: 6.6150 - accuracy: 0.5781 - val_loss: 9.6610 - val_accuracy: 0.5286\n",
      "Epoch 124/150\n",
      "69/69 [==============================] - 0s 1ms/step - loss: 6.5053 - accuracy: 0.5749 - val_loss: 9.4829 - val_accuracy: 0.5286\n",
      "Epoch 125/150\n",
      "69/69 [==============================] - 0s 1ms/step - loss: 6.4013 - accuracy: 0.5717 - val_loss: 9.2972 - val_accuracy: 0.5286\n",
      "Epoch 126/150\n",
      "69/69 [==============================] - 0s 1ms/step - loss: 6.2944 - accuracy: 0.5717 - val_loss: 9.1159 - val_accuracy: 0.5143\n",
      "Epoch 127/150\n",
      "69/69 [==============================] - 0s 1ms/step - loss: 6.1915 - accuracy: 0.5668 - val_loss: 8.9390 - val_accuracy: 0.5286\n",
      "Epoch 128/150\n",
      "69/69 [==============================] - 0s 1ms/step - loss: 6.0874 - accuracy: 0.5700 - val_loss: 8.7373 - val_accuracy: 0.5286\n",
      "Epoch 129/150\n",
      "69/69 [==============================] - 0s 1ms/step - loss: 5.9962 - accuracy: 0.5668 - val_loss: 8.5598 - val_accuracy: 0.5286\n",
      "Epoch 130/150\n",
      "69/69 [==============================] - 0s 2ms/step - loss: 5.9079 - accuracy: 0.5652 - val_loss: 8.3674 - val_accuracy: 0.5286\n",
      "Epoch 131/150\n",
      "69/69 [==============================] - 0s 2ms/step - loss: 5.8259 - accuracy: 0.5604 - val_loss: 8.2203 - val_accuracy: 0.5143\n",
      "Epoch 132/150\n",
      "69/69 [==============================] - 0s 2ms/step - loss: 5.7468 - accuracy: 0.5588 - val_loss: 8.0727 - val_accuracy: 0.5143\n",
      "Epoch 133/150\n",
      "69/69 [==============================] - 0s 1ms/step - loss: 5.6666 - accuracy: 0.5556 - val_loss: 7.9223 - val_accuracy: 0.5286\n",
      "Epoch 134/150\n",
      "69/69 [==============================] - 0s 1ms/step - loss: 5.5911 - accuracy: 0.5588 - val_loss: 7.8032 - val_accuracy: 0.5143\n",
      "Epoch 135/150\n",
      "69/69 [==============================] - 0s 2ms/step - loss: 5.5233 - accuracy: 0.5588 - val_loss: 7.6459 - val_accuracy: 0.5286\n",
      "Epoch 136/150\n",
      "69/69 [==============================] - 0s 1ms/step - loss: 5.4529 - accuracy: 0.5588 - val_loss: 7.5339 - val_accuracy: 0.5143\n",
      "Epoch 137/150\n",
      "69/69 [==============================] - 0s 1ms/step - loss: 5.3890 - accuracy: 0.5604 - val_loss: 7.4276 - val_accuracy: 0.5000\n",
      "Epoch 138/150\n",
      "69/69 [==============================] - 0s 1ms/step - loss: 5.3314 - accuracy: 0.5636 - val_loss: 7.2773 - val_accuracy: 0.5000\n",
      "Epoch 139/150\n",
      "69/69 [==============================] - 0s 1ms/step - loss: 5.2625 - accuracy: 0.5668 - val_loss: 7.1585 - val_accuracy: 0.5143\n",
      "Epoch 140/150\n",
      "69/69 [==============================] - 0s 1ms/step - loss: 5.2066 - accuracy: 0.5652 - val_loss: 7.0342 - val_accuracy: 0.5286\n",
      "Epoch 141/150\n",
      "69/69 [==============================] - 0s 3ms/step - loss: 5.1411 - accuracy: 0.5652 - val_loss: 6.9007 - val_accuracy: 0.5143\n",
      "Epoch 142/150\n",
      "69/69 [==============================] - 0s 2ms/step - loss: 5.0777 - accuracy: 0.5652 - val_loss: 6.7714 - val_accuracy: 0.5286\n",
      "Epoch 143/150\n",
      "69/69 [==============================] - 0s 1ms/step - loss: 5.0284 - accuracy: 0.5652 - val_loss: 6.6671 - val_accuracy: 0.5429\n",
      "Epoch 144/150\n",
      "69/69 [==============================] - 0s 1ms/step - loss: 4.9734 - accuracy: 0.5668 - val_loss: 6.5666 - val_accuracy: 0.5429\n",
      "Epoch 145/150\n",
      "69/69 [==============================] - 0s 2ms/step - loss: 4.9264 - accuracy: 0.5652 - val_loss: 6.5042 - val_accuracy: 0.5286\n",
      "Epoch 146/150\n",
      "69/69 [==============================] - 0s 2ms/step - loss: 4.8719 - accuracy: 0.5620 - val_loss: 6.3681 - val_accuracy: 0.5429\n",
      "Epoch 147/150\n",
      "69/69 [==============================] - 0s 2ms/step - loss: 4.8292 - accuracy: 0.5652 - val_loss: 6.2635 - val_accuracy: 0.5429\n",
      "Epoch 148/150\n",
      "69/69 [==============================] - 0s 1ms/step - loss: 4.7801 - accuracy: 0.5636 - val_loss: 6.1620 - val_accuracy: 0.5429\n",
      "Epoch 149/150\n",
      "69/69 [==============================] - 0s 1ms/step - loss: 4.7420 - accuracy: 0.5588 - val_loss: 6.1064 - val_accuracy: 0.5429\n",
      "Epoch 150/150\n",
      "69/69 [==============================] - 0s 1ms/step - loss: 4.6961 - accuracy: 0.5588 - val_loss: 6.0080 - val_accuracy: 0.5571\n"
     ]
    },
    {
     "data": {
      "text/plain": [
       "<tensorflow.python.keras.callbacks.History at 0x25f91de5c70>"
      ]
     },
     "execution_count": 18,
     "metadata": {},
     "output_type": "execute_result"
    }
   ],
   "source": [
    "modell.fit(x_train, y_train, epochs=150, verbose=1,validation_data=(x_valid,y_valid),batch_size=9)"
   ]
  },
  {
   "cell_type": "code",
   "execution_count": 19,
   "id": "363b950c",
   "metadata": {},
   "outputs": [
    {
     "name": "stdout",
     "output_type": "stream",
     "text": [
      "3/3 [==============================] - 0s 0s/step - loss: 5.1025 - accuracy: 0.6104\n"
     ]
    }
   ],
   "source": [
    "testt=modell.evaluate(x_test,y_test)"
   ]
  },
  {
   "cell_type": "code",
   "execution_count": 20,
   "id": "db6baf17",
   "metadata": {},
   "outputs": [],
   "source": [
    "from sklearn.metrics import accuracy_score"
   ]
  },
  {
   "cell_type": "code",
   "execution_count": 21,
   "id": "40c0ebca",
   "metadata": {},
   "outputs": [],
   "source": [
    "from sklearn.preprocessing import StandardScaler    \n",
    "st_x= StandardScaler()    \n",
    "x_train_ff= st_x.fit_transform(x_train_f)    \n",
    "x_test_ff= st_x.transform(x_test)  "
   ]
  },
  {
   "cell_type": "code",
   "execution_count": 22,
   "id": "d6fa50d4",
   "metadata": {},
   "outputs": [
    {
     "data": {
      "text/plain": [
       "RandomForestClassifier(criterion='entropy', n_estimators=10)"
      ]
     },
     "execution_count": 22,
     "metadata": {},
     "output_type": "execute_result"
    }
   ],
   "source": [
    "#using random forest\n",
    "from sklearn.ensemble import RandomForestClassifier  \n",
    "classifier= RandomForestClassifier(n_estimators= 10, criterion=\"entropy\")  \n",
    "classifier.fit(x_train_ff, y_train_f)  "
   ]
  },
  {
   "cell_type": "code",
   "execution_count": 23,
   "id": "ed976323",
   "metadata": {},
   "outputs": [],
   "source": [
    "y_pred= classifier.predict(x_test_ff)  "
   ]
  },
  {
   "cell_type": "code",
   "execution_count": 24,
   "id": "b6ab326c",
   "metadata": {},
   "outputs": [
    {
     "data": {
      "text/plain": [
       "0.8181818181818182"
      ]
     },
     "execution_count": 24,
     "metadata": {},
     "output_type": "execute_result"
    }
   ],
   "source": [
    "accuracy_score(y_pred,y_test)"
   ]
  },
  {
   "cell_type": "code",
   "execution_count": 25,
   "id": "733aa502",
   "metadata": {},
   "outputs": [
    {
     "data": {
      "text/plain": [
       "0.7402597402597403"
      ]
     },
     "execution_count": 25,
     "metadata": {},
     "output_type": "execute_result"
    }
   ],
   "source": [
    "#using knn classifier\n",
    "from sklearn.neighbors import KNeighborsClassifier  \n",
    "classifier_1= KNeighborsClassifier(n_neighbors=10, metric='minkowski', p=10 )  \n",
    "classifier_1.fit(x_train_ff, y_train_f)  \n",
    "y_pred_knn= classifier_1.predict(x_test_ff)  \n",
    "accuracy_score(y_pred_knn,y_test)"
   ]
  },
  {
   "cell_type": "code",
   "execution_count": 26,
   "id": "28303c77",
   "metadata": {},
   "outputs": [
    {
     "data": {
      "text/plain": [
       "0.8181818181818182"
      ]
     },
     "execution_count": 26,
     "metadata": {},
     "output_type": "execute_result"
    }
   ],
   "source": [
    "#using Adaboost classifier\n",
    "from sklearn.ensemble import AdaBoostClassifier\n",
    "ada_clf=AdaBoostClassifier(learning_rate=0.02,n_estimators=5000)\n",
    "ada_clf.fit(x_train_f,y_train_f)\n",
    "accuracy_score(y_test,ada_clf.predict(x_test))"
   ]
  },
  {
   "cell_type": "code",
   "execution_count": 27,
   "id": "a74406e2",
   "metadata": {},
   "outputs": [
    {
     "data": {
      "text/plain": [
       "0.7922077922077922"
      ]
     },
     "execution_count": 27,
     "metadata": {},
     "output_type": "execute_result"
    }
   ],
   "source": [
    "#using gradient boost classifier\n",
    "from sklearn.ensemble import GradientBoostingClassifier\n",
    "glb_clf=GradientBoostingClassifier(learning_rate=0.03,n_estimators=4000,max_depth=1)\n",
    "glb_clf.fit(x_train_f,y_train_f)\n",
    "accuracy_score(y_test,glb_clf.predict(x_test))"
   ]
  },
  {
   "cell_type": "code",
   "execution_count": 28,
   "id": "475981d8",
   "metadata": {},
   "outputs": [
    {
     "name": "stderr",
     "output_type": "stream",
     "text": [
      "C:\\Users\\ragav\\anaconda3\\envs\\tensorflow_env\\lib\\site-packages\\sklearn\\model_selection\\_search.py:922: UserWarning: One or more of the test scores are non-finite: [0.77423626 0.75541654 0.76122406 0.76266291 0.76844959        nan]\n",
      "  warnings.warn(\n"
     ]
    },
    {
     "data": {
      "text/plain": [
       "GridSearchCV(cv=5,\n",
       "             estimator=RandomForestClassifier(n_estimators=250,\n",
       "                                              random_state=42),\n",
       "             n_jobs=-1, param_grid={'max_features': [4, 5, 6, 7, 8, 9]},\n",
       "             scoring='accuracy')"
      ]
     },
     "execution_count": 28,
     "metadata": {},
     "output_type": "execute_result"
    }
   ],
   "source": [
    "from sklearn.model_selection import GridSearchCV\n",
    "rf_tree=RandomForestClassifier(n_estimators=250,random_state=42)\n",
    "params_grid={\"max_features\":[4,5,6,7,8,9]}\n",
    "grid_search=GridSearchCV(rf_tree,params_grid,n_jobs=-1,cv=5,scoring='accuracy')\n",
    "grid_search.fit(x_train_f,y_train_f)\n"
   ]
  },
  {
   "cell_type": "code",
   "execution_count": 29,
   "id": "56085055",
   "metadata": {},
   "outputs": [
    {
     "data": {
      "text/plain": [
       "0.8051948051948052"
      ]
     },
     "execution_count": 29,
     "metadata": {},
     "output_type": "execute_result"
    }
   ],
   "source": [
    "grid_search.best_params_\n",
    "cvrl_clf=grid_search.best_estimator_\n",
    "accuracy_score(y_test,cvrl_clf.predict(x_test))"
   ]
  },
  {
   "cell_type": "code",
   "execution_count": null,
   "id": "936dbad8",
   "metadata": {},
   "outputs": [],
   "source": []
  }
 ],
 "metadata": {
  "kernelspec": {
   "display_name": "Python 3",
   "language": "python",
   "name": "python3"
  },
  "language_info": {
   "codemirror_mode": {
    "name": "ipython",
    "version": 3
   },
   "file_extension": ".py",
   "mimetype": "text/x-python",
   "name": "python",
   "nbconvert_exporter": "python",
   "pygments_lexer": "ipython3",
   "version": "3.8.8"
  }
 },
 "nbformat": 4,
 "nbformat_minor": 5
}
